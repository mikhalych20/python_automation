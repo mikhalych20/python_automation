{
 "cells": [
  {
   "cell_type": "code",
   "execution_count": 55,
   "id": "87d08e24",
   "metadata": {},
   "outputs": [
    {
     "name": "stdout",
     "output_type": "stream",
     "text": [
      "LXXXIX\n"
     ]
    }
   ],
   "source": [
    "inputing_roman_number = input()"
   ]
  },
  {
   "cell_type": "code",
   "execution_count": 56,
   "id": "01fb4b7b",
   "metadata": {},
   "outputs": [],
   "source": [
    "roman_numerals = {'I':1, 'V':5, 'X':10, 'L':50, 'C':100, 'D':500, 'M':1000}"
   ]
  },
  {
   "cell_type": "code",
   "execution_count": 57,
   "id": "2220eb2d",
   "metadata": {},
   "outputs": [],
   "source": [
    "def get_arabic_number (roman_number: str) -> int:\n",
    "    result_number = 0\n",
    "    for i in range (len(roman_number)-1):\n",
    "        if roman_numerals[roman_number[i]] >= roman_numerals[roman_number[i+1]]:\n",
    "            result_number+=roman_numerals[roman_number[i]]\n",
    "        else:\n",
    "            result_number-=roman_numerals[roman_number[i]]\n",
    "    result_number+=roman_numerals[roman_number[len(roman_number)-1]]\n",
    "    return result_number"
   ]
  },
  {
   "cell_type": "code",
   "execution_count": 58,
   "id": "835abf89",
   "metadata": {},
   "outputs": [
    {
     "data": {
      "text/plain": [
       "89"
      ]
     },
     "execution_count": 58,
     "metadata": {},
     "output_type": "execute_result"
    }
   ],
   "source": [
    "get_arabic_number(inputing_roman_number)"
   ]
  },
  {
   "cell_type": "code",
   "execution_count": null,
   "id": "763039e1",
   "metadata": {},
   "outputs": [],
   "source": []
  }
 ],
 "metadata": {
  "kernelspec": {
   "display_name": "Python 3 (ipykernel)",
   "language": "python",
   "name": "python3"
  },
  "language_info": {
   "codemirror_mode": {
    "name": "ipython",
    "version": 3
   },
   "file_extension": ".py",
   "mimetype": "text/x-python",
   "name": "python",
   "nbconvert_exporter": "python",
   "pygments_lexer": "ipython3",
   "version": "3.11.5"
  }
 },
 "nbformat": 4,
 "nbformat_minor": 5
}
