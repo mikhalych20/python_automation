{
 "cells": [
  {
   "cell_type": "code",
   "execution_count": 5,
   "id": "ee804daf",
   "metadata": {},
   "outputs": [],
   "source": [
    "def game (number_of_stiks):\n",
    "    number_of_players = 2\n",
    "    iteration = 0\n",
    "    current_player = 0\n",
    "    while number_of_stiks > 0:\n",
    "        current_player = iteration % number_of_players + 1\n",
    "        print(f'Current count of stiks = {number_of_stiks}')\n",
    "        print (f'Player number {current_player} is playing \\nPlease, enter count of stiks:')\n",
    "        count_of_stiks = int(input())\n",
    "        while (count_of_stiks > number_of_stiks) or (count_of_stiks > 3)or (count_of_stiks <0):\n",
    "            print (f'The number of sticks entered is incorrect. Please enter again.')\n",
    "            count_of_stiks = int(input())\n",
    "        number_of_stiks-= count_of_stiks\n",
    "        iteration+=1\n",
    "        print('\\n')\n",
    "    print (f'Player {(current_player % number_of_players)+1} is winner!')\n",
    "        "
   ]
  },
  {
   "cell_type": "code",
   "execution_count": 6,
   "id": "fd2fbaae",
   "metadata": {},
   "outputs": [
    {
     "name": "stdout",
     "output_type": "stream",
     "text": [
      "Current count of stiks = 10\n",
      "Player number 1 is playing \n",
      "Please, enter count of stiks:\n",
      "-1\n",
      "The number of sticks entered is incorrect. Please enter again.\n",
      "11\n",
      "The number of sticks entered is incorrect. Please enter again.\n",
      "4\n",
      "The number of sticks entered is incorrect. Please enter again.\n",
      "3\n",
      "\n",
      "\n",
      "Current count of stiks = 7\n",
      "Player number 2 is playing \n",
      "Please, enter count of stiks:\n",
      "2\n",
      "\n",
      "\n",
      "Current count of stiks = 5\n",
      "Player number 1 is playing \n",
      "Please, enter count of stiks:\n",
      "1\n",
      "\n",
      "\n",
      "Current count of stiks = 4\n",
      "Player number 2 is playing \n",
      "Please, enter count of stiks:\n",
      "3\n",
      "\n",
      "\n",
      "Current count of stiks = 1\n",
      "Player number 1 is playing \n",
      "Please, enter count of stiks:\n",
      "1\n",
      "\n",
      "\n",
      "Player 2 is winner!\n"
     ]
    }
   ],
   "source": [
    "game(10)"
   ]
  },
  {
   "cell_type": "code",
   "execution_count": null,
   "id": "d7decb85",
   "metadata": {},
   "outputs": [],
   "source": []
  }
 ],
 "metadata": {
  "kernelspec": {
   "display_name": "Python 3 (ipykernel)",
   "language": "python",
   "name": "python3"
  },
  "language_info": {
   "codemirror_mode": {
    "name": "ipython",
    "version": 3
   },
   "file_extension": ".py",
   "mimetype": "text/x-python",
   "name": "python",
   "nbconvert_exporter": "python",
   "pygments_lexer": "ipython3",
   "version": "3.11.5"
  }
 },
 "nbformat": 4,
 "nbformat_minor": 5
}
