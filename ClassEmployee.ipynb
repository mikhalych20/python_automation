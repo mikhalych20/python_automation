{
 "cells": [
  {
   "cell_type": "code",
   "execution_count": 50,
   "id": "a497cea1",
   "metadata": {},
   "outputs": [],
   "source": [
    "class Employee():\n",
    "    def __init__(self, first_name, last_name, salary):\n",
    "        self.first_name = first_name\n",
    "        self.last_name = last_name\n",
    "        self.salary = int(salary)\n",
    "    @classmethod\n",
    "    def from_string (cls,employee_from_string):\n",
    "            first_name, last_name,salary = employee_from_string.split('-')\n",
    "            return cls(first_name,last_name,int(salary))"
   ]
  },
  {
   "cell_type": "code",
   "execution_count": 51,
   "id": "d37419ce",
   "metadata": {},
   "outputs": [],
   "source": [
    "e2 = Employee.from_string('Katya-Mikh-1000')"
   ]
  },
  {
   "cell_type": "code",
   "execution_count": 52,
   "id": "76529ba3",
   "metadata": {},
   "outputs": [
    {
     "data": {
      "text/plain": [
       "'Katya'"
      ]
     },
     "execution_count": 52,
     "metadata": {},
     "output_type": "execute_result"
    }
   ],
   "source": [
    "e2.first_name"
   ]
  },
  {
   "cell_type": "code",
   "execution_count": 53,
   "id": "4fe9774b",
   "metadata": {},
   "outputs": [
    {
     "data": {
      "text/plain": [
       "'Mikh'"
      ]
     },
     "execution_count": 53,
     "metadata": {},
     "output_type": "execute_result"
    }
   ],
   "source": [
    "e2.last_name"
   ]
  },
  {
   "cell_type": "code",
   "execution_count": 54,
   "id": "298584e9",
   "metadata": {},
   "outputs": [
    {
     "data": {
      "text/plain": [
       "1000"
      ]
     },
     "execution_count": 54,
     "metadata": {},
     "output_type": "execute_result"
    }
   ],
   "source": [
    "e2.salary"
   ]
  },
  {
   "cell_type": "code",
   "execution_count": 55,
   "id": "b4bf1878",
   "metadata": {},
   "outputs": [],
   "source": [
    "e1 =Employee('Katya', 'Mikh','1233333')"
   ]
  },
  {
   "cell_type": "code",
   "execution_count": 56,
   "id": "18ded308",
   "metadata": {},
   "outputs": [
    {
     "data": {
      "text/plain": [
       "'Katya'"
      ]
     },
     "execution_count": 56,
     "metadata": {},
     "output_type": "execute_result"
    }
   ],
   "source": [
    "e1.first_name"
   ]
  },
  {
   "cell_type": "code",
   "execution_count": 57,
   "id": "71572d87",
   "metadata": {},
   "outputs": [
    {
     "data": {
      "text/plain": [
       "'Mikh'"
      ]
     },
     "execution_count": 57,
     "metadata": {},
     "output_type": "execute_result"
    }
   ],
   "source": [
    "e2.last_name"
   ]
  },
  {
   "cell_type": "code",
   "execution_count": 58,
   "id": "dd22cfd9",
   "metadata": {},
   "outputs": [
    {
     "data": {
      "text/plain": [
       "1233333"
      ]
     },
     "execution_count": 58,
     "metadata": {},
     "output_type": "execute_result"
    }
   ],
   "source": [
    "e1.salary"
   ]
  }
 ],
 "metadata": {
  "kernelspec": {
   "display_name": "Python 3 (ipykernel)",
   "language": "python",
   "name": "python3"
  },
  "language_info": {
   "codemirror_mode": {
    "name": "ipython",
    "version": 3
   },
   "file_extension": ".py",
   "mimetype": "text/x-python",
   "name": "python",
   "nbconvert_exporter": "python",
   "pygments_lexer": "ipython3",
   "version": "3.11.5"
  }
 },
 "nbformat": 4,
 "nbformat_minor": 5
}
