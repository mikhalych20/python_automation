{
 "cells": [
  {
   "cell_type": "code",
   "execution_count": 7,
   "id": "c7890e32",
   "metadata": {},
   "outputs": [],
   "source": [
    "class Name():\n",
    "    def __init__(self, first_name, last_name):\n",
    "        self.first_name = first_name.title()\n",
    "        self.last_name = last_name.title()\n",
    "        self.full_name = self.first_name + ' ' + self.last_name\n",
    "        self.initials = self.first_name[0]+ '.'+self.last_name[0]\n",
    "    "
   ]
  },
  {
   "cell_type": "code",
   "execution_count": 8,
   "id": "45bd74f1",
   "metadata": {},
   "outputs": [],
   "source": [
    "a1 = Name('KATYA', 'MIKH')"
   ]
  },
  {
   "cell_type": "code",
   "execution_count": 9,
   "id": "533ccd07",
   "metadata": {},
   "outputs": [
    {
     "data": {
      "text/plain": [
       "'Katya'"
      ]
     },
     "execution_count": 9,
     "metadata": {},
     "output_type": "execute_result"
    }
   ],
   "source": [
    "a1.first_name"
   ]
  },
  {
   "cell_type": "code",
   "execution_count": 10,
   "id": "46670d3c",
   "metadata": {},
   "outputs": [
    {
     "data": {
      "text/plain": [
       "'Mikh'"
      ]
     },
     "execution_count": 10,
     "metadata": {},
     "output_type": "execute_result"
    }
   ],
   "source": [
    "a1.last_name"
   ]
  },
  {
   "cell_type": "code",
   "execution_count": 11,
   "id": "a031a640",
   "metadata": {},
   "outputs": [
    {
     "data": {
      "text/plain": [
       "'Katya Mikh'"
      ]
     },
     "execution_count": 11,
     "metadata": {},
     "output_type": "execute_result"
    }
   ],
   "source": [
    "a1.full_name"
   ]
  },
  {
   "cell_type": "code",
   "execution_count": 12,
   "id": "f08242a2",
   "metadata": {},
   "outputs": [
    {
     "data": {
      "text/plain": [
       "'K.M'"
      ]
     },
     "execution_count": 12,
     "metadata": {},
     "output_type": "execute_result"
    }
   ],
   "source": [
    "a1.initials"
   ]
  },
  {
   "cell_type": "code",
   "execution_count": null,
   "id": "0a0aed33",
   "metadata": {},
   "outputs": [],
   "source": []
  }
 ],
 "metadata": {
  "kernelspec": {
   "display_name": "Python 3 (ipykernel)",
   "language": "python",
   "name": "python3"
  },
  "language_info": {
   "codemirror_mode": {
    "name": "ipython",
    "version": 3
   },
   "file_extension": ".py",
   "mimetype": "text/x-python",
   "name": "python",
   "nbconvert_exporter": "python",
   "pygments_lexer": "ipython3",
   "version": "3.11.5"
  }
 },
 "nbformat": 4,
 "nbformat_minor": 5
}
