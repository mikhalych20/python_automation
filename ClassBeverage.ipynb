{
 "cells": [
  {
   "cell_type": "code",
   "execution_count": 105,
   "id": "7bdd8b34",
   "metadata": {},
   "outputs": [],
   "source": [
    "class Beverage():\n",
    "    price = {'Strawberries' : 1.50,\n",
    "            'Banana': 0.50,\n",
    "            'Mango': 2.50,\n",
    "            'Blueberries': 1.00,\n",
    "           'Raspberries': 1.00,\n",
    "            'Apple':1.75,\n",
    "            'Pineapple':3.50}\n",
    "    def __init__(self,ingredients):\n",
    "        self.ingredients=ingredients\n",
    "    def get_cost(self):\n",
    "        result_cost=0\n",
    "        for ingr in self.ingredients:\n",
    "            result_cost = result_cost+Beverage.price[ingr]\n",
    "        return '$'+str(result_cost)\n",
    "    def get_price(self):\n",
    "        result_cost=0\n",
    "        for ingr in self.ingredients:\n",
    "            result_cost = result_cost+Beverage.price[ingr]        \n",
    "        return '$'+str(result_cost*2.5)\n",
    "    def get_name(self):\n",
    "        sort_ingridients = sorted(self.ingredients)\n",
    "        result_name =''\n",
    "        for ingr in sort_ingridients:\n",
    "            ingr = ingr.replace('berries', 'berry')\n",
    "            result_name = result_name+ ingr + ' '\n",
    "        if len (sort_ingridients) == 1:\n",
    "            result_name +='Smoothie'\n",
    "        else:\n",
    "                result_name +='Fusion'\n",
    "        return result_name\n",
    " "
   ]
  },
  {
   "cell_type": "code",
   "execution_count": 106,
   "id": "4ca95cb9",
   "metadata": {},
   "outputs": [],
   "source": [
    "s1 = Beverage([\"Banana\"])"
   ]
  },
  {
   "cell_type": "code",
   "execution_count": 107,
   "id": "de070b00",
   "metadata": {},
   "outputs": [
    {
     "data": {
      "text/plain": [
       "['Banana']"
      ]
     },
     "execution_count": 107,
     "metadata": {},
     "output_type": "execute_result"
    }
   ],
   "source": [
    "s1.ingredients"
   ]
  },
  {
   "cell_type": "code",
   "execution_count": 108,
   "id": "d1dfaaad",
   "metadata": {},
   "outputs": [
    {
     "data": {
      "text/plain": [
       "'$0.5'"
      ]
     },
     "execution_count": 108,
     "metadata": {},
     "output_type": "execute_result"
    }
   ],
   "source": [
    "s1.get_cost()"
   ]
  },
  {
   "cell_type": "code",
   "execution_count": 109,
   "id": "a8556346",
   "metadata": {},
   "outputs": [
    {
     "data": {
      "text/plain": [
       "'$1.25'"
      ]
     },
     "execution_count": 109,
     "metadata": {},
     "output_type": "execute_result"
    }
   ],
   "source": [
    "s1.get_price()"
   ]
  },
  {
   "cell_type": "code",
   "execution_count": 110,
   "id": "837453a5",
   "metadata": {},
   "outputs": [
    {
     "data": {
      "text/plain": [
       "'Banana Smoothie'"
      ]
     },
     "execution_count": 110,
     "metadata": {},
     "output_type": "execute_result"
    }
   ],
   "source": [
    "s1.get_name()"
   ]
  },
  {
   "cell_type": "code",
   "execution_count": 111,
   "id": "17afe4d1",
   "metadata": {},
   "outputs": [],
   "source": [
    "s2 = Beverage([\"Raspberries\", \"Strawberries\", \"Blueberries\"])"
   ]
  },
  {
   "cell_type": "code",
   "execution_count": 112,
   "id": "485dce37",
   "metadata": {},
   "outputs": [
    {
     "data": {
      "text/plain": [
       "['Raspberries', 'Strawberries', 'Blueberries']"
      ]
     },
     "execution_count": 112,
     "metadata": {},
     "output_type": "execute_result"
    }
   ],
   "source": [
    "s2.ingredients"
   ]
  },
  {
   "cell_type": "code",
   "execution_count": 113,
   "id": "36319207",
   "metadata": {},
   "outputs": [
    {
     "data": {
      "text/plain": [
       "'$3.5'"
      ]
     },
     "execution_count": 113,
     "metadata": {},
     "output_type": "execute_result"
    }
   ],
   "source": [
    "s2.get_cost()"
   ]
  },
  {
   "cell_type": "code",
   "execution_count": 114,
   "id": "be183d31",
   "metadata": {},
   "outputs": [
    {
     "data": {
      "text/plain": [
       "'$8.75'"
      ]
     },
     "execution_count": 114,
     "metadata": {},
     "output_type": "execute_result"
    }
   ],
   "source": [
    "s2.get_price()"
   ]
  },
  {
   "cell_type": "code",
   "execution_count": 115,
   "id": "d28df01f",
   "metadata": {},
   "outputs": [
    {
     "data": {
      "text/plain": [
       "'Blueberry Raspberry Strawberry Fusion'"
      ]
     },
     "execution_count": 115,
     "metadata": {},
     "output_type": "execute_result"
    }
   ],
   "source": [
    "s2.get_name()"
   ]
  },
  {
   "cell_type": "code",
   "execution_count": null,
   "id": "0df1374c",
   "metadata": {},
   "outputs": [],
   "source": []
  }
 ],
 "metadata": {
  "kernelspec": {
   "display_name": "Python 3 (ipykernel)",
   "language": "python",
   "name": "python3"
  },
  "language_info": {
   "codemirror_mode": {
    "name": "ipython",
    "version": 3
   },
   "file_extension": ".py",
   "mimetype": "text/x-python",
   "name": "python",
   "nbconvert_exporter": "python",
   "pygments_lexer": "ipython3",
   "version": "3.11.5"
  }
 },
 "nbformat": 4,
 "nbformat_minor": 5
}
