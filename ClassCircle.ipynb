{
 "cells": [
  {
   "cell_type": "code",
   "execution_count": 7,
   "id": "23246f3e",
   "metadata": {},
   "outputs": [],
   "source": [
    "from math import pi\n",
    "class Curcle():\n",
    "    def __init__(self, radius):\n",
    "        self. radius = radius\n",
    "    def get_area(self):\n",
    "        return pi * pow(self.radius,2)\n",
    "    def get_perimeter(self):\n",
    "        return 2*pi*self.radius\n",
    "        "
   ]
  },
  {
   "cell_type": "code",
   "execution_count": 8,
   "id": "fc12d572",
   "metadata": {},
   "outputs": [],
   "source": [
    "c1 = Curcle(10)"
   ]
  },
  {
   "cell_type": "code",
   "execution_count": 9,
   "id": "2674f306",
   "metadata": {},
   "outputs": [],
   "source": [
    "ar = c1.get_area()"
   ]
  },
  {
   "cell_type": "code",
   "execution_count": 10,
   "id": "2191af5d",
   "metadata": {},
   "outputs": [
    {
     "data": {
      "text/plain": [
       "314.1592653589793"
      ]
     },
     "execution_count": 10,
     "metadata": {},
     "output_type": "execute_result"
    }
   ],
   "source": [
    "ar"
   ]
  },
  {
   "cell_type": "code",
   "execution_count": 11,
   "id": "bc8b0fca",
   "metadata": {},
   "outputs": [],
   "source": [
    "p = c1.get_perimeter()"
   ]
  },
  {
   "cell_type": "code",
   "execution_count": 12,
   "id": "3daef3a3",
   "metadata": {},
   "outputs": [
    {
     "data": {
      "text/plain": [
       "62.83185307179586"
      ]
     },
     "execution_count": 12,
     "metadata": {},
     "output_type": "execute_result"
    }
   ],
   "source": [
    "p"
   ]
  }
 ],
 "metadata": {
  "kernelspec": {
   "display_name": "Python 3 (ipykernel)",
   "language": "python",
   "name": "python3"
  },
  "language_info": {
   "codemirror_mode": {
    "name": "ipython",
    "version": 3
   },
   "file_extension": ".py",
   "mimetype": "text/x-python",
   "name": "python",
   "nbconvert_exporter": "python",
   "pygments_lexer": "ipython3",
   "version": "3.11.5"
  }
 },
 "nbformat": 4,
 "nbformat_minor": 5
}
