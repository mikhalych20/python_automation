{
 "cells": [
  {
   "cell_type": "code",
   "execution_count": 45,
   "id": "7cec9e28",
   "metadata": {},
   "outputs": [],
   "source": [
    "class Pizza():\n",
    "    order_number = 0\n",
    "    def __init__(self, ingridients):\n",
    "        self.ingridients = ingridients\n",
    "        self.order_number = Pizza.order_number + 1\n",
    "        Pizza.order_number = Pizza.order_number +1\n",
    "    @classmethod\n",
    "    def garden_feast (cls):\n",
    "        return cls(['spinach', 'olives', 'mushroom'])\n",
    "    @classmethod\n",
    "    def meat_festival (cls):\n",
    "        return cls(['beef', 'meatball', 'bacon'])\n",
    "    @classmethod\n",
    "    def hawaiian (cls):\n",
    "        return cls(['ham', 'pineapple'])"
   ]
  },
  {
   "cell_type": "code",
   "execution_count": 46,
   "id": "701e97c4",
   "metadata": {},
   "outputs": [],
   "source": [
    "p1 = Pizza(['q','e','r'])"
   ]
  },
  {
   "cell_type": "code",
   "execution_count": 47,
   "id": "4634d005",
   "metadata": {},
   "outputs": [
    {
     "data": {
      "text/plain": [
       "1"
      ]
     },
     "execution_count": 47,
     "metadata": {},
     "output_type": "execute_result"
    }
   ],
   "source": [
    "p1.order_number"
   ]
  },
  {
   "cell_type": "code",
   "execution_count": 48,
   "id": "d0f4c066",
   "metadata": {},
   "outputs": [],
   "source": [
    "p2 = Pizza(['q','e','r'])"
   ]
  },
  {
   "cell_type": "code",
   "execution_count": 49,
   "id": "403c9b78",
   "metadata": {},
   "outputs": [
    {
     "data": {
      "text/plain": [
       "2"
      ]
     },
     "execution_count": 49,
     "metadata": {},
     "output_type": "execute_result"
    }
   ],
   "source": [
    "p2.order_number"
   ]
  },
  {
   "cell_type": "code",
   "execution_count": 50,
   "id": "8b9ad3fa",
   "metadata": {},
   "outputs": [
    {
     "data": {
      "text/plain": [
       "2"
      ]
     },
     "execution_count": 50,
     "metadata": {},
     "output_type": "execute_result"
    }
   ],
   "source": [
    "Pizza.order_number"
   ]
  },
  {
   "cell_type": "code",
   "execution_count": 51,
   "id": "81a51001",
   "metadata": {},
   "outputs": [],
   "source": [
    "p3 = Pizza(['q','e','r'])"
   ]
  },
  {
   "cell_type": "code",
   "execution_count": 52,
   "id": "d4bf3abd",
   "metadata": {},
   "outputs": [],
   "source": [
    "p4 = Pizza.garden_feast()"
   ]
  },
  {
   "cell_type": "code",
   "execution_count": 53,
   "id": "b6436bd6",
   "metadata": {},
   "outputs": [
    {
     "data": {
      "text/plain": [
       "4"
      ]
     },
     "execution_count": 53,
     "metadata": {},
     "output_type": "execute_result"
    }
   ],
   "source": [
    "p4.order_number"
   ]
  },
  {
   "cell_type": "code",
   "execution_count": 54,
   "id": "4f725b61",
   "metadata": {},
   "outputs": [
    {
     "data": {
      "text/plain": [
       "['spinach', 'olives', 'mushroom']"
      ]
     },
     "execution_count": 54,
     "metadata": {},
     "output_type": "execute_result"
    }
   ],
   "source": [
    "p4.ingridients"
   ]
  },
  {
   "cell_type": "code",
   "execution_count": 55,
   "id": "ff0e3d4a",
   "metadata": {},
   "outputs": [],
   "source": [
    "p5 = Pizza.hawaiian()"
   ]
  },
  {
   "cell_type": "code",
   "execution_count": 56,
   "id": "d8850343",
   "metadata": {},
   "outputs": [
    {
     "data": {
      "text/plain": [
       "5"
      ]
     },
     "execution_count": 56,
     "metadata": {},
     "output_type": "execute_result"
    }
   ],
   "source": [
    "p5.order_number"
   ]
  },
  {
   "cell_type": "code",
   "execution_count": 57,
   "id": "faab3dca",
   "metadata": {},
   "outputs": [
    {
     "data": {
      "text/plain": [
       "['ham', 'pineapple']"
      ]
     },
     "execution_count": 57,
     "metadata": {},
     "output_type": "execute_result"
    }
   ],
   "source": [
    "p5.ingridients"
   ]
  },
  {
   "cell_type": "code",
   "execution_count": 58,
   "id": "9da81036",
   "metadata": {},
   "outputs": [],
   "source": [
    "p6=Pizza.meat_festival()"
   ]
  },
  {
   "cell_type": "code",
   "execution_count": 59,
   "id": "03e034e8",
   "metadata": {},
   "outputs": [
    {
     "data": {
      "text/plain": [
       "6"
      ]
     },
     "execution_count": 59,
     "metadata": {},
     "output_type": "execute_result"
    }
   ],
   "source": [
    "p6.order_number"
   ]
  },
  {
   "cell_type": "code",
   "execution_count": 60,
   "id": "bbb5ac33",
   "metadata": {},
   "outputs": [
    {
     "data": {
      "text/plain": [
       "['beef', 'meatball', 'bacon']"
      ]
     },
     "execution_count": 60,
     "metadata": {},
     "output_type": "execute_result"
    }
   ],
   "source": [
    "p6.ingridients"
   ]
  }
 ],
 "metadata": {
  "kernelspec": {
   "display_name": "Python 3 (ipykernel)",
   "language": "python",
   "name": "python3"
  },
  "language_info": {
   "codemirror_mode": {
    "name": "ipython",
    "version": 3
   },
   "file_extension": ".py",
   "mimetype": "text/x-python",
   "name": "python",
   "nbconvert_exporter": "python",
   "pygments_lexer": "ipython3",
   "version": "3.11.5"
  }
 },
 "nbformat": 4,
 "nbformat_minor": 5
}
